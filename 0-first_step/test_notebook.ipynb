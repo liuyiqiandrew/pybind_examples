{
 "cells": [
  {
   "cell_type": "code",
   "execution_count": 2,
   "metadata": {},
   "outputs": [],
   "source": [
    "import build.lib.pybind_first_step as module"
   ]
  },
  {
   "cell_type": "code",
   "execution_count": 3,
   "metadata": {},
   "outputs": [
    {
     "name": "stdout",
     "output_type": "stream",
     "text": [
      "Help on module build.lib.pybind_first_step in build.lib:\n",
      "\n",
      "NAME\n",
      "    build.lib.pybind_first_step - pybind11 example plugin\n",
      "\n",
      "FUNCTIONS\n",
      "    add(...) method of builtins.PyCapsule instance\n",
      "        add(i: int = 0, j: int = 0) -> int\n",
      "\n",
      "        Adding two integers\n",
      "\n",
      "DATA\n",
      "    answer = 42\n",
      "    what = 'World'\n",
      "\n",
      "FILE\n",
      "    /home/andrewliu/projects/pybind_examples/0-first_step/build/lib/pybind_first_step.cpython-312-x86_64-linux-gnu.so\n",
      "\n",
      "\n"
     ]
    }
   ],
   "source": [
    "help(module)"
   ]
  }
 ],
 "metadata": {
  "kernelspec": {
   "display_name": "pybind",
   "language": "python",
   "name": "python3"
  },
  "language_info": {
   "codemirror_mode": {
    "name": "ipython",
    "version": 3
   },
   "file_extension": ".py",
   "mimetype": "text/x-python",
   "name": "python",
   "nbconvert_exporter": "python",
   "pygments_lexer": "ipython3",
   "version": "3.12.8"
  }
 },
 "nbformat": 4,
 "nbformat_minor": 2
}
