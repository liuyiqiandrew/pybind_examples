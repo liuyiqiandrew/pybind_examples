{
 "cells": [
  {
   "cell_type": "code",
   "execution_count": 16,
   "metadata": {},
   "outputs": [],
   "source": [
    "import build.lib.testlib as tlib"
   ]
  },
  {
   "cell_type": "code",
   "execution_count": 22,
   "metadata": {},
   "outputs": [
    {
     "name": "stdout",
     "output_type": "stream",
     "text": [
      "====================\n",
      "Help on module build.lib.testlib in build.lib:\n",
      "\n",
      "NAME\n",
      "    build.lib.testlib - testlib: contains some functions to check submodule implementation\n",
      "\n",
      "SUBMODULES\n",
      "    math\n",
      "    mc\n",
      "\n",
      "FILE\n",
      "    /home/andrewliu/projects/pybind_examples/1-submodules/build/lib/testlib.cpython-312-x86_64-linux-gnu.so\n",
      "\n",
      "\n",
      "====================\n",
      "Help on module build.lib.testlib.math in build.lib.testlib:\n",
      "\n",
      "NAME\n",
      "    build.lib.testlib.math - Basic arithmetics\n",
      "\n",
      "FUNCTIONS\n",
      "    add(...) method of builtins.PyCapsule instance\n",
      "        add(a: float = 0, b: float = 0) -> float\n",
      "\n",
      "    subtract(...) method of builtins.PyCapsule instance\n",
      "        subtract(a: float = 0, b: float = 0) -> float\n",
      "\n",
      "FILE\n",
      "    (built-in)\n",
      "\n",
      "\n",
      "====================\n",
      "Help on module build.lib.testlib.mc in build.lib.testlib:\n",
      "\n",
      "NAME\n",
      "    build.lib.testlib.mc - generate uniform rvs\n",
      "\n",
      "FUNCTIONS\n",
      "    uniform_double(...) method of builtins.PyCapsule instance\n",
      "        uniform_double(low: float = 0, high: float = 1) -> float\n",
      "\n",
      "    uniform_int(...) method of builtins.PyCapsule instance\n",
      "        uniform_int(low: int = 0, high: int = 1) -> int\n",
      "\n",
      "FILE\n",
      "    (built-in)\n",
      "\n",
      "\n"
     ]
    }
   ],
   "source": [
    "print(\"=\" * 20)\n",
    "help(tlib)\n",
    "print(\"=\" * 20)\n",
    "help(tlib.math)\n",
    "print(\"=\" * 20)\n",
    "help(tlib.mc)"
   ]
  },
  {
   "cell_type": "code",
   "execution_count": 18,
   "metadata": {},
   "outputs": [
    {
     "name": "stdout",
     "output_type": "stream",
     "text": [
      "0.0 == 0\n",
      "3.0 == 3\n",
      "0.0 == 0\n",
      "-1.0 == -1\n"
     ]
    }
   ],
   "source": [
    "print(f\"{tlib.math.add()} == 0\")\n",
    "print(f\"{tlib.math.add(a=1, b=2)} == 3\")\n",
    "print(f\"{tlib.math.subtract()} == 0\")\n",
    "print(f\"{tlib.math.subtract(a=1, b=2)} == -1\")"
   ]
  },
  {
   "cell_type": "code",
   "execution_count": 19,
   "metadata": {},
   "outputs": [
    {
     "name": "stdout",
     "output_type": "stream",
     "text": [
      "0 <= 3 <= 100\n",
      "0 <= 72 <= 100\n",
      "0 <= 44 <= 100\n",
      "0 <= 44 <= 100\n",
      "0 <= 15 <= 100\n"
     ]
    }
   ],
   "source": [
    "for i in range(5):\n",
    "    print(f\"0 <= {tlib.mc.uniform_int(high=100)} <= 100\")"
   ]
  },
  {
   "cell_type": "code",
   "execution_count": 20,
   "metadata": {},
   "outputs": [
    {
     "name": "stdout",
     "output_type": "stream",
     "text": [
      "0 <= 98.747032678141 <= 100\n",
      "0 <= 70.59686019339053 <= 100\n",
      "0 <= 12.796244205083692 <= 100\n",
      "0 <= 91.80956162565013 <= 100\n",
      "0 <= 86.67734796909802 <= 100\n"
     ]
    }
   ],
   "source": [
    "for i in range(5):\n",
    "    print(f\"0 <= {tlib.mc.uniform_double(high=100)} <= 100\")"
   ]
  }
 ],
 "metadata": {
  "kernelspec": {
   "display_name": "pybind",
   "language": "python",
   "name": "python3"
  },
  "language_info": {
   "codemirror_mode": {
    "name": "ipython",
    "version": 3
   },
   "file_extension": ".py",
   "mimetype": "text/x-python",
   "name": "python",
   "nbconvert_exporter": "python",
   "pygments_lexer": "ipython3",
   "version": "3.12.8"
  }
 },
 "nbformat": 4,
 "nbformat_minor": 2
}
